{
 "cells": [
  {
   "cell_type": "code",
   "execution_count": 32,
   "metadata": {},
   "outputs": [],
   "source": [
    "import torch\n",
    "import torch.nn as nn\n",
    "import torch.nn.functional as F\n",
    "import numpy as np\n",
    "import matplotlib.pyplot as plt\n",
    "import torch.utils.data as Data\n",
    "\n",
    "dtype = torch.float32\n",
    "device = torch.device('cuda' if torch.cuda.is_available() else 'cpu')"
   ]
  },
  {
   "cell_type": "markdown",
   "metadata": {},
   "source": [
    "文本预处理"
   ]
  },
  {
   "cell_type": "code",
   "execution_count": 3,
   "metadata": {},
   "outputs": [],
   "source": [
    "sentences = [\"jack like dog\", \"jack like cat\", \"jack like animal\",\n",
    "  \"dog cat animal\", \"banana apple cat dog like\", \"dog fish milk like\",\n",
    "  \"dog cat animal like\", \"jack like apple\", \"apple like\", \"jack like banana\",\n",
    "  \"apple banana jack movie book music like\", \"cat dog hate\", \"cat dog like\"]\n",
    "\n",
    "word_sequence = \" \".join(sentences).split() # ['jack', 'like', 'dog', 'jack', 'like', 'cat', 'animal',...]\n",
    "vocab = list(set(word_sequence)) # build words vocabulary\n",
    "word2idx = {w: i for i, w in enumerate(vocab)} # {'jack':0, 'like':1,...}"
   ]
  },
  {
   "cell_type": "markdown",
   "metadata": {},
   "source": [
    "word2vec模型参数"
   ]
  },
  {
   "cell_type": "code",
   "execution_count": 4,
   "metadata": {},
   "outputs": [],
   "source": [
    "batch_size = 8\n",
    "embedding_size = 2  # 2 dim vector represent one word\n",
    "C = 2 # window size\n",
    "voc_size = len(vocab) # 词表大小"
   ]
  },
  {
   "cell_type": "code",
   "execution_count": 5,
   "metadata": {},
   "outputs": [],
   "source": [
    "skip_grams = []\n",
    "for idx in range(C, len(word_sequence) - C):\n",
    "    center = word2idx[word_sequence[idx]]\n",
    "    context_idx = list(range(idx - C, idx)) + list(range(idx + 1, idx + C + 1)) # context word idx\n",
    "    context = [word2idx[word_sequence[i]] for i in context_idx]\n",
    "    for w in context:\n",
    "        skip_grams.append([center, w])"
   ]
  },
  {
   "cell_type": "code",
   "execution_count": 12,
   "metadata": {},
   "outputs": [],
   "source": [
    "def make_data(datas, voc_size):\n",
    "    one_hot = np.eye(voc_size)\n",
    "    datas = np.asarray(datas)\n",
    "    input_data = one_hot[datas[:, 0]]\n",
    "    output_data = datas[:, 1]\n",
    "    return input_data, output_data\n",
    "input_data, output_data = make_data(skip_grams, voc_size)"
   ]
  },
  {
   "cell_type": "code",
   "execution_count": 115,
   "metadata": {},
   "outputs": [
    {
     "name": "stderr",
     "output_type": "stream",
     "text": [
      "<ipython-input-115-e638fe52223f>:1: UserWarning: To copy construct from a tensor, it is recommended to use sourceTensor.clone().detach() or sourceTensor.clone().detach().requires_grad_(True), rather than torch.tensor(sourceTensor).\n",
      "  input_data = torch.tensor(input_data, dtype=dtype)\n",
      "<ipython-input-115-e638fe52223f>:2: UserWarning: To copy construct from a tensor, it is recommended to use sourceTensor.clone().detach() or sourceTensor.clone().detach().requires_grad_(True), rather than torch.tensor(sourceTensor).\n",
      "  output_data = torch.tensor(output_data, dtype=torch.long)\n"
     ]
    }
   ],
   "source": [
    "input_data = torch.tensor(input_data, dtype=dtype)\n",
    "output_data = torch.tensor(output_data, dtype=torch.long)\n",
    "# output_data = torch.LongTensor(output_data)\n",
    "dataset = Data.TensorDataset(input_data, output_data)\n",
    "loader = Data.DataLoader(dataset, batch_size, True)"
   ]
  },
  {
   "cell_type": "code",
   "execution_count": 127,
   "metadata": {},
   "outputs": [
    {
     "data": {
      "text/plain": [
       "(tensor([1., 0., 0., 0., 0., 0., 0., 0., 0., 0., 0., 0., 0.]), tensor(6))"
      ]
     },
     "execution_count": 127,
     "metadata": {},
     "output_type": "execute_result"
    }
   ],
   "source": [
    "next(iter(dataset))"
   ]
  },
  {
   "cell_type": "code",
   "execution_count": 43,
   "metadata": {
    "scrolled": true
   },
   "outputs": [
    {
     "name": "stdout",
     "output_type": "stream",
     "text": [
      "Help on TensorDataset in module torch.utils.data.dataset object:\n",
      "\n",
      "class TensorDataset(Dataset)\n",
      " |  TensorDataset(*args, **kwds)\n",
      " |  \n",
      " |  Dataset wrapping tensors.\n",
      " |  \n",
      " |  Each sample will be retrieved by indexing tensors along the first dimension.\n",
      " |  \n",
      " |  Arguments:\n",
      " |      *tensors (Tensor): tensors that have the same size of the first dimension.\n",
      " |  \n",
      " |  Method resolution order:\n",
      " |      TensorDataset\n",
      " |      Dataset\n",
      " |      typing.Generic\n",
      " |      builtins.object\n",
      " |  \n",
      " |  Methods defined here:\n",
      " |  \n",
      " |  __getitem__(self, index)\n",
      " |  \n",
      " |  __init__(self, *tensors: torch.Tensor) -> None\n",
      " |      Initialize self.  See help(type(self)) for accurate signature.\n",
      " |  \n",
      " |  __len__(self)\n",
      " |  \n",
      " |  ----------------------------------------------------------------------\n",
      " |  Data and other attributes defined here:\n",
      " |  \n",
      " |  __annotations__ = {'tensors': typing.Tuple[torch.Tensor, ...]}\n",
      " |  \n",
      " |  __orig_bases__ = (torch.utils.data.dataset.Dataset[typing.Tuple[torch....\n",
      " |  \n",
      " |  __parameters__ = ()\n",
      " |  \n",
      " |  ----------------------------------------------------------------------\n",
      " |  Methods inherited from Dataset:\n",
      " |  \n",
      " |  __add__(self, other: 'Dataset[T_co]') -> 'ConcatDataset[T_co]'\n",
      " |  \n",
      " |  ----------------------------------------------------------------------\n",
      " |  Data descriptors inherited from Dataset:\n",
      " |  \n",
      " |  __dict__\n",
      " |      dictionary for instance variables (if defined)\n",
      " |  \n",
      " |  __weakref__\n",
      " |      list of weak references to the object (if defined)\n",
      " |  \n",
      " |  ----------------------------------------------------------------------\n",
      " |  Class methods inherited from typing.Generic:\n",
      " |  \n",
      " |  __class_getitem__(params) from builtins.type\n",
      " |  \n",
      " |  __init_subclass__(*args, **kwargs) from builtins.type\n",
      " |      This method is called when a class is subclassed.\n",
      " |      \n",
      " |      The default implementation does nothing. It may be\n",
      " |      overridden to extend subclasses.\n",
      " |  \n",
      " |  ----------------------------------------------------------------------\n",
      " |  Static methods inherited from typing.Generic:\n",
      " |  \n",
      " |  __new__(cls, *args, **kwds)\n",
      " |      Create and return a new object.  See help(type) for accurate signature.\n",
      "\n"
     ]
    }
   ],
   "source": [
    "help(dataset)"
   ]
  },
  {
   "cell_type": "code",
   "execution_count": 8,
   "metadata": {},
   "outputs": [],
   "source": [
    "class Word2Vec(nn.Module):\n",
    "    def __init__(self):\n",
    "        super().__init__()\n",
    "#         self.W = nn.Parameter(torch.randn(voc_size, embedding_size).type(dtype))\n",
    "#         self.V = nn.Parameter(torch.randn(embedding_size, voc_size).type(dtype))\n",
    "        self.W = nn.Parameter(torch.randn(voc_size, embedding_size, dtype=dtype))\n",
    "        self.V = nn.Parameter(torch.randn(embedding_size, voc_size, dtype=dtype))\n",
    "        \n",
    "    def forward(self, X):\n",
    "        # X : [batch_size, vocab_size]\n",
    "        hidden = torch.matmul(X, self.W) # [batch_size, m]\n",
    "        output = torch.matmul(hidden, self.V) # [batch_size, vocab_size]\n",
    "        return output\n",
    "    \n",
    "model = Word2Vec().to(device)\n",
    "loss_fn = nn.CrossEntropyLoss().to(device)\n",
    "optim = torch.optim.Adam(model.parameters(), lr=1e-3)"
   ]
  },
  {
   "cell_type": "code",
   "execution_count": 16,
   "metadata": {
    "collapsed": true
   },
   "outputs": [
    {
     "name": "stdout",
     "output_type": "stream",
     "text": [
      "500 2.048675537109375\n",
      "500 1.8827921152114868\n",
      "500 2.275214195251465\n",
      "500 2.078446388244629\n",
      "500 2.220841646194458\n",
      "500 1.8409898281097412\n",
      "500 2.2127139568328857\n",
      "500 1.8580676317214966\n",
      "500 2.115915536880493\n",
      "500 2.2456159591674805\n",
      "500 1.7470853328704834\n",
      "500 1.9068803787231445\n",
      "500 1.827252984046936\n",
      "500 2.132017135620117\n",
      "500 2.011422872543335\n",
      "500 2.2774577140808105\n",
      "500 2.113954544067383\n",
      "500 2.222186803817749\n",
      "500 2.2257821559906006\n",
      "500 1.8028719425201416\n",
      "500 2.4156064987182617\n",
      "1000 2.163315534591675\n",
      "1000 2.016981601715088\n",
      "1000 1.933906078338623\n",
      "1000 2.0669076442718506\n",
      "1000 2.340289831161499\n",
      "1000 2.0700912475585938\n",
      "1000 2.348463773727417\n",
      "1000 1.9857409000396729\n",
      "1000 1.7108500003814697\n",
      "1000 2.1124346256256104\n",
      "1000 2.1162893772125244\n",
      "1000 2.3059005737304688\n",
      "1000 2.0191187858581543\n",
      "1000 1.9216164350509644\n",
      "1000 2.2189159393310547\n",
      "1000 1.9315351247787476\n",
      "1000 1.8470773696899414\n",
      "1000 1.6256787776947021\n",
      "1000 2.2241744995117188\n",
      "1000 2.233670234680176\n",
      "1000 2.0220038890838623\n",
      "1500 2.2603795528411865\n",
      "1500 2.3665034770965576\n",
      "1500 1.8515536785125732\n",
      "1500 1.9104543924331665\n",
      "1500 2.1865158081054688\n",
      "1500 1.8397672176361084\n",
      "1500 1.693556308746338\n",
      "1500 2.2515957355499268\n",
      "1500 1.6840323209762573\n",
      "1500 2.1540212631225586\n",
      "1500 1.8645960092544556\n",
      "1500 2.2301836013793945\n",
      "1500 1.9207324981689453\n",
      "1500 2.030710220336914\n",
      "1500 2.3276264667510986\n",
      "1500 2.2966506481170654\n",
      "1500 1.7419281005859375\n",
      "1500 2.036815881729126\n",
      "1500 2.5754616260528564\n",
      "1500 2.187619686126709\n",
      "1500 1.6895203590393066\n",
      "2000 1.8647180795669556\n",
      "2000 1.9677304029464722\n",
      "2000 2.0576484203338623\n",
      "2000 1.8888684511184692\n",
      "2000 2.2555904388427734\n",
      "2000 1.9739354848861694\n",
      "2000 2.3706233501434326\n",
      "2000 2.115912437438965\n",
      "2000 1.716442584991455\n",
      "2000 1.9532021284103394\n",
      "2000 1.8820781707763672\n",
      "2000 2.01098895072937\n",
      "2000 1.709487795829773\n",
      "2000 2.4518377780914307\n",
      "2000 1.636439323425293\n",
      "2000 2.161996364593506\n",
      "2000 2.0743274688720703\n",
      "2000 2.2236690521240234\n",
      "2000 2.1674435138702393\n",
      "2000 2.387446880340576\n",
      "2000 2.166581869125366\n"
     ]
    }
   ],
   "source": [
    "for epoch in range(1, 2001):\n",
    "    for i, (batch_x, batch_y) in enumerate(loader):\n",
    "        batch_x = batch_x.to(device)\n",
    "        batch_y = batch_y.to(device)\n",
    "        pred = model(batch_x)\n",
    "        # 注：nn.CrossEntropyLoss输入的真实值为label的数值，不是onehot\n",
    "        loss = loss_fn(pred, batch_y)\n",
    "        \n",
    "        if epoch % 500 == 0:\n",
    "            print(epoch, loss.item())\n",
    "            \n",
    "        optim.zero_grad()\n",
    "        loss.backward()\n",
    "        optim.step()"
   ]
  },
  {
   "cell_type": "code",
   "execution_count": 33,
   "metadata": {},
   "outputs": [
    {
     "data": {
      "image/png": "[encoded data removed]",
      "text/plain": [
       "<Figure size 432x288 with 1 Axes>"
      ]
     },
     "metadata": {
      "needs_background": "light"
     },
     "output_type": "display_data"
    }
   ],
   "source": [
    "for i, label in enumerate(vocab):\n",
    "    W, WT = model.parameters()\n",
    "    x,y = float(W[i][0]), float(W[i][1])\n",
    "    plt.scatter(x, y)\n",
    "    plt.annotate(label, xy=(x, y), xytext=(5, 2), textcoords='offset points', ha='right', va='bottom')\n",
    "plt.show()"
   ]
  }
 ],
 "metadata": {
  "kernelspec": {
   "display_name": "Python [conda env:mul-torch]",
   "language": "python",
   "name": "conda-env-mul-torch-py"
  },
  "language_info": {
   "codemirror_mode": {
    "name": "ipython",
    "version": 3
   },
   "file_extension": ".py",
   "mimetype": "text/x-python",
   "name": "python",
   "nbconvert_exporter": "python",
   "pygments_lexer": "ipython3",
   "version": "3.8.8"
  }
 },
 "nbformat": 4,
 "nbformat_minor": 4
}
